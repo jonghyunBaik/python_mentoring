{
 "cells": [
  {
   "cell_type": "code",
   "execution_count": 13,
   "id": "5ded64c2",
   "metadata": {},
   "outputs": [
    {
     "name": "stdout",
     "output_type": "stream",
     "text": [
      "5\n",
      "*****\n",
      "****\n",
      "***\n",
      "**\n",
      "*\n"
     ]
    }
   ],
   "source": [
    "#별찍기 3번\n",
    "count = int(input())\n",
    "time = int(count)\n",
    "\n",
    "\n",
    "for i in range(count) :\n",
    "    for j in range(time) :\n",
    "        print(\"*\", end ='')\n",
    "    print(\"\\n\", end ='')\n",
    "    time = time - 1"
   ]
  },
  {
   "cell_type": "code",
   "execution_count": 14,
   "id": "6a6e7f50",
   "metadata": {},
   "outputs": [
    {
     "name": "stdout",
     "output_type": "stream",
     "text": [
      "5\n",
      "*****\n",
      " ****\n",
      "  ***\n",
      "   **\n",
      "    *\n"
     ]
    }
   ],
   "source": [
    "#별찍기 4번 \n",
    "count = int(input())\n",
    "time = int(count)\n",
    "blank = 0\n",
    "\n",
    "for i in range(count) :\n",
    "    for j in range(blank) :\n",
    "        print(' ', end ='')\n",
    "    for j in range(time) :\n",
    "        print(\"*\", end ='')\n",
    "    print(\"\\n\", end ='')\n",
    "    time = time - 1\n",
    "    blank = blank + 1"
   ]
  },
  {
   "cell_type": "code",
   "execution_count": 22,
   "id": "92ad62c7",
   "metadata": {},
   "outputs": [
    {
     "name": "stdout",
     "output_type": "stream",
     "text": [
      "10\n",
      "         *\n",
      "        ***\n",
      "       *****\n",
      "      *******\n",
      "     *********\n",
      "    ***********\n",
      "   *************\n",
      "  ***************\n",
      " *****************\n",
      "*******************\n"
     ]
    }
   ],
   "source": [
    "#별찍기 5번 \n",
    "count = int(input())\n",
    "time = 1\n",
    "blank = int(count - 1)\n",
    "\n",
    "for i in range(count) :\n",
    "    for j in range(blank) :\n",
    "        print(' ', end ='')\n",
    "    for j in range(time) :\n",
    "        print(\"*\", end ='')\n",
    "    print(\"\\n\", end ='')\n",
    "    time = time + 2\n",
    "    blank = blank - 1"
   ]
  },
  {
   "cell_type": "code",
   "execution_count": null,
   "id": "910c4f8a",
   "metadata": {},
   "outputs": [],
   "source": [
    "#별찍기 6번 \n",
    "count = int(input())\n",
    "time = count * 2 - 1\n",
    "blank = 0\n",
    "\n",
    "for i in range(count) :\n",
    "    for j in range(blank) :\n",
    "        print(' ', end ='')\n",
    "    for j in range(time) :\n",
    "        print(\"*\", end ='')\n",
    "    print(\"\\n\", end ='')\n",
    "    time = time - 2\n",
    "    blank = blank + 1"
   ]
  },
  {
   "cell_type": "code",
   "execution_count": null,
   "id": "2542b6f2",
   "metadata": {},
   "outputs": [],
   "source": []
  },
  {
   "cell_type": "code",
   "execution_count": null,
   "id": "9c5ed78c",
   "metadata": {},
   "outputs": [],
   "source": []
  }
 ],
 "metadata": {
  "kernelspec": {
   "display_name": "Python 3",
   "language": "python",
   "name": "python3"
  },
  "language_info": {
   "codemirror_mode": {
    "name": "ipython",
    "version": 3
   },
   "file_extension": ".py",
   "mimetype": "text/x-python",
   "name": "python",
   "nbconvert_exporter": "python",
   "pygments_lexer": "ipython3",
   "version": "3.8.8"
  }
 },
 "nbformat": 4,
 "nbformat_minor": 5
}
