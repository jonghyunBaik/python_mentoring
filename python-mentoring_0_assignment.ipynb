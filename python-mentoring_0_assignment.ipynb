{
 "cells": [
  {
   "cell_type": "markdown",
   "id": "42edd48a",
   "metadata": {},
   "source": [
    "### 언타이틀 파이썬 멘토링 과제 1\n",
    "\n",
    "안녕하세요. 여러분들이 남겨주신 소개글 보니깐 많은 분들이 파이썬을 조금이라도 다뤄보신적이 있는 것 같더라구요.<br/>\n",
    "지금 부터 간단한 과제를 드릴건데, 부담 갖지 마시고 편안하게 시간 되시는데로 해보시면서, **리마인드 해보면 좋을 것 같습니다.** <br/>\n",
    "아는데로 최대한 해보시고, 모르겠는 부분은 얼마든지 다른 책, 자료 등 찾아보시고 하셔도 됩니다.<br/>\n",
    "\n",
    "\n",
    "**단! 찾아보고 만든 부분은 주석으로 꼭 표시해주세요.**<br/>\n",
    "\n",
    "<div class=\"alert alert-block alert-info\">\n",
    "😀 여러분들이 어디까지 알고있고, 어디를 어려워하는지 체크하기 위한 과제니까요!\n",
    "</div>\n",
    "<hr/>"
   ]
  },
  {
   "cell_type": "markdown",
   "id": "06ef5523",
   "metadata": {},
   "source": [
    "## 도서 구매 판별기\n",
    "\n",
    "여러분들이 만드실 프로그램은 도서 구매 판별기 입니다. <br/>\n",
    "이름과 가지고 있는 포인트를 입력하면, 구매할 수 있는 도서의 이름을 출력해주는 프로그램이죠.<br/>\n",
    "아래 적힌 기능명세에 맞추어 구현하시면 됩니다 <br/>\n",
    "\n",
    "<br/>\n",
    "\n",
    "1. **이름과 가지고 있는 포인트를 한 줄에 띄어쓰기로 구분하여 입력받는다.**\n",
    "    - 입력 예시) <br/>\n",
    "    ```bash\n",
    "    김영준 14300\n",
    "    ```\n",
    "\n",
    "2. **책 이름과 가격을 총 다섯번 입력합니다.**\n",
    "    - 입력 예시 ) <br/>\n",
    "    ```bash\n",
    "    하얼빈 14400\n",
    "    전지적독자시점 13500\n",
    "    파친코 14220\n",
    "    위로의미술관 16920\n",
    "    불편한편의점 12600\n",
    "    ```\n",
    "\n",
    "3. **입력한 책 이름 중 자신이 가지고 있는 포인트로 구매할 수 있는 책 이름을 모두 출력합니다.**\n",
    "    - 출력 예시 ) <br/>\n",
    "    ```bash\n",
    "    전지적독자시점\n",
    "    파친코\n",
    "    불편한편의점\n",
    "    ```\n",
    "\n",
    "<br/>\n",
    "<div class=\"alert alert-block alert-info\">\n",
    "😨 여기까지가 문제 설명입니다. 그럼 아래 코드 셀에서 코드를 작성해주시면 됩니다!\n",
    "</div>\n",
    "<hr/>"
   ]
  },
  {
   "cell_type": "code",
   "execution_count": 2,
   "id": "03f4612c",
   "metadata": {},
   "outputs": [
    {
     "name": "stdout",
     "output_type": "stream",
     "text": [
      "이름을 입력해주세요백종현\n",
      "백종현\n"
     ]
    },
    {
     "ename": "ValueError",
     "evalue": "invalid literal for int() with base 10: '백종현'",
     "output_type": "error",
     "traceback": [
      "\u001b[0;31m---------------------------------------------------------------------------\u001b[0m",
      "\u001b[0;31mValueError\u001b[0m                                Traceback (most recent call last)",
      "\u001b[0;32m<ipython-input-2-d92305425e1b>\u001b[0m in \u001b[0;36m<module>\u001b[0;34m\u001b[0m\n\u001b[1;32m      1\u001b[0m \u001b[0mname\u001b[0m \u001b[0;34m=\u001b[0m \u001b[0minput\u001b[0m\u001b[0;34m(\u001b[0m\u001b[0;34m\"이름을 입력해주세요\"\u001b[0m\u001b[0;34m)\u001b[0m\u001b[0;34m\u001b[0m\u001b[0;34m\u001b[0m\u001b[0m\n\u001b[0;32m----> 2\u001b[0;31m \u001b[0mpoint\u001b[0m \u001b[0;34m=\u001b[0m \u001b[0mint\u001b[0m\u001b[0;34m(\u001b[0m\u001b[0minput\u001b[0m\u001b[0;34m(\u001b[0m\u001b[0;34m)\u001b[0m\u001b[0;34m)\u001b[0m\u001b[0;34m\u001b[0m\u001b[0;34m\u001b[0m\u001b[0m\n\u001b[0m\u001b[1;32m      3\u001b[0m \u001b[0;34m\u001b[0m\u001b[0m\n\u001b[1;32m      4\u001b[0m \u001b[0mbook\u001b[0m \u001b[0;34m=\u001b[0m \u001b[0;34m[\u001b[0m\u001b[0;34m]\u001b[0m\u001b[0;34m\u001b[0m\u001b[0;34m\u001b[0m\u001b[0m\n\u001b[1;32m      5\u001b[0m \u001b[0mprice\u001b[0m \u001b[0;34m=\u001b[0m \u001b[0;34m[\u001b[0m\u001b[0;34m]\u001b[0m\u001b[0;34m\u001b[0m\u001b[0;34m\u001b[0m\u001b[0m\n",
      "\u001b[0;31mValueError\u001b[0m: invalid literal for int() with base 10: '백종현'"
     ]
    }
   ],
   "source": [
    "name = input(\"이름을 입력해주세요\")\n",
    "point = int(input())\n",
    "\n",
    "book = [] \n",
    "price = []\n",
    "\n",
    "for x in range(5) :\n",
    "    book.append(input())\n",
    "    \n",
    "cash = name[-5:]\n",
    "#list 일부출력도 구글링입니다 ㅎ\n",
    "#주석도 구글링했습니다 ㅎㅎ\n",
    "for x in range(len(book)) :\n",
    "    price.append(book[x][-5:])\n",
    "# append 구글링 했습니다\n",
    "    \n",
    "for x in range(len(price)) :\n",
    "    # for문도 구글링 했습니다\n",
    "    if price[x] <= cash :\n",
    "        print(book[x][0:-5])"
   ]
  },
  {
   "cell_type": "code",
   "execution_count": 3,
   "id": "48ef7eb5",
   "metadata": {},
   "outputs": [
    {
     "name": "stdout",
     "output_type": "stream",
     "text": [
      "12\n",
      "<class 'str'>\n"
     ]
    }
   ],
   "source": [
    "name = input()\n",
    "\n",
    "print(type(name))"
   ]
  },
  {
   "cell_type": "code",
   "execution_count": null,
   "id": "7a56054b",
   "metadata": {},
   "outputs": [],
   "source": []
  }
 ],
 "metadata": {
  "kernelspec": {
   "display_name": "Python 3",
   "language": "python",
   "name": "python3"
  },
  "language_info": {
   "codemirror_mode": {
    "name": "ipython",
    "version": 3
   },
   "file_extension": ".py",
   "mimetype": "text/x-python",
   "name": "python",
   "nbconvert_exporter": "python",
   "pygments_lexer": "ipython3",
   "version": "3.8.8"
  }
 },
 "nbformat": 4,
 "nbformat_minor": 5
}
