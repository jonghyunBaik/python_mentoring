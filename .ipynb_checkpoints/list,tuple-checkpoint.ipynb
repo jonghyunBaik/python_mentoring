{
 "cells": [
  {
   "cell_type": "code",
   "execution_count": 25,
   "id": "b08ab34a",
   "metadata": {},
   "outputs": [
    {
     "name": "stdout",
     "output_type": "stream",
     "text": [
      "3\n",
      "3\n",
      "[1, 2, 3, 4]\n",
      "7\n",
      "[4, 5, 6]\n",
      "[1, 3, 5]\n",
      "[3, 4, 5, 6, 7]\n",
      "[1, 2, 3, 4, 5]\n",
      "[0, 0, 0, 0, 1, 'list', '안녕']\n",
      "1 2 3 4 5\n"
     ]
    },
    {
     "ename": "ValueError",
     "evalue": "invalid literal for int() with base 10: '1 2 3 4 5'",
     "output_type": "error",
     "traceback": [
      "\u001b[0;31m---------------------------------------------------------------------------\u001b[0m",
      "\u001b[0;31mValueError\u001b[0m                                Traceback (most recent call last)",
      "\u001b[0;32m<ipython-input-25-00b8d90c10d7>\u001b[0m in \u001b[0;36m<module>\u001b[0;34m\u001b[0m\n\u001b[1;32m     68\u001b[0m \u001b[0mprint\u001b[0m\u001b[0;34m(\u001b[0m\u001b[0mc\u001b[0m\u001b[0;34m)\u001b[0m\u001b[0;34m\u001b[0m\u001b[0;34m\u001b[0m\u001b[0m\n\u001b[1;32m     69\u001b[0m \u001b[0;34m\u001b[0m\u001b[0m\n\u001b[0;32m---> 70\u001b[0;31m \u001b[0mN\u001b[0m \u001b[0;34m=\u001b[0m \u001b[0mint\u001b[0m\u001b[0;34m(\u001b[0m\u001b[0minput\u001b[0m\u001b[0;34m(\u001b[0m\u001b[0;34m)\u001b[0m\u001b[0;34m)\u001b[0m\u001b[0;34m\u001b[0m\u001b[0;34m\u001b[0m\u001b[0m\n\u001b[0m\u001b[1;32m     71\u001b[0m \u001b[0;34m\u001b[0m\u001b[0m\n\u001b[1;32m     72\u001b[0m \u001b[0ma\u001b[0m \u001b[0;34m=\u001b[0m \u001b[0;34m[\u001b[0m\u001b[0;34m]\u001b[0m\u001b[0;34m\u001b[0m\u001b[0;34m\u001b[0m\u001b[0m\n",
      "\u001b[0;31mValueError\u001b[0m: invalid literal for int() with base 10: '1 2 3 4 5'"
     ]
    }
   ],
   "source": [
    "# 시퀀스형 자료형 (list, tuple, range(), 문자열)\n",
    "\n",
    "#리스트 (list)\n",
    "\n",
    "#mutable array 라고 생각\n",
    "\n",
    "arr = [1,2,3]\n",
    "arr1 = list()\n",
    "#list 선언 방법 두가지\n",
    "\n",
    "print(arr[2])\n",
    "\n",
    "#튜플 (tuple)\n",
    "\n",
    "#immutable array 라고 생각 \n",
    "\n",
    "tup = (1,2,3,4)\n",
    "tup2 = tuple()\n",
    "#tuple 선언 방법 두가지\n",
    "\n",
    "print(tup[2])\n",
    "\n",
    "#슬라이싱 (slicing)\n",
    "#시퀀스형 자료형 변수의 인덱스를 가져오는 방법\n",
    "arr = [1,2,3,4,5,6,7]\n",
    "\n",
    "temp_arr = arr[0:4]\n",
    "temp_arr1 = arr[-1]\n",
    "temp_arr2 = arr[-4:-1]\n",
    "# [a:b] a 이상 b 미만의 인덱스 가져옴\n",
    "\n",
    "print(temp_arr)\n",
    "print(temp_arr1)\n",
    "print(temp_arr2)\n",
    "\n",
    "temp_arr3 = arr[0:6:2]\n",
    "# [a:b:c] a 이상 b 미만의 인덱스를 c 만큼 간격마다 가져옴\n",
    "\n",
    "print(temp_arr3)\n",
    "\n",
    "\n",
    "temp_arr4 = arr[2:]\n",
    "#2번 인덱스부터 마지막까지\n",
    "temp_arr5 = arr[:5]\n",
    "#처음부터 5번 인덱스보다 작을때 까지\n",
    "\n",
    "print(temp_arr4)\n",
    "print(temp_arr5)\n",
    "\n",
    "\n",
    "\n",
    "#list 복사 \n",
    "\n",
    "a = [0,0,0,0]\n",
    "b = a\n",
    "\n",
    "# 위 같은 경우엔 b와 a의 주소값은 같아짐.\n",
    "# a의 값이 변할 경우 b의 값도 달라짐.\n",
    "# a의 주소가 아닌 값만 가져다 쓰고싶을 경우\n",
    "c = a.copy() \n",
    "#위의 함수로 실행\n",
    "\n",
    "#리스트에 값 추가 append\n",
    "c.append(1)\n",
    "c.append('list')\n",
    "c.append('안녕')\n",
    "\n",
    "print(c)\n",
    "\n",
    "N = int(input())\n",
    "\n",
    "a = []\n",
    "\n",
    "for _ in range(N):\n",
    "    a.append(list(map(int, input.split())))\n",
    "    \n",
    "print(a)"
   ]
  },
  {
   "cell_type": "code",
   "execution_count": 11,
   "id": "8cb4f016",
   "metadata": {},
   "outputs": [
    {
     "name": "stdout",
     "output_type": "stream",
     "text": [
      "2\n",
      "4\n",
      "6\n",
      "8\n"
     ]
    }
   ],
   "source": [
    "li = [1,2,3,4,5,6,7,8]\n",
    "\n",
    "for i in li[1::2] :\n",
    "    print(i)"
   ]
  },
  {
   "cell_type": "code",
   "execution_count": 15,
   "id": "6ca19977",
   "metadata": {
    "scrolled": true
   },
   "outputs": [
    {
     "name": "stdout",
     "output_type": "stream",
     "text": [
      "my name is Jong hyun\n",
      "5\n"
     ]
    }
   ],
   "source": [
    "print(len(input().split()))"
   ]
  },
  {
   "cell_type": "code",
   "execution_count": 54,
   "id": "f58d374e",
   "metadata": {
    "scrolled": false
   },
   "outputs": [
    {
     "name": "stdout",
     "output_type": "stream",
     "text": [
      "6\n",
      "[2, 3, 4, 5, 6]\n",
      "[2, 4, 5, 6]\n",
      "[2, 4, 6]\n",
      "[4, 6]\n",
      "[4]\n",
      "4\n"
     ]
    }
   ],
   "source": [
    "a = int(input())\n",
    "\n",
    "arr = []\n",
    "for i in range(a) :\n",
    "    arr.append(i+1)\n",
    "\n",
    "while(len(arr) > 1) :\n",
    "    for i in range(int(len(arr)/2 + 0.5)) :\n",
    "        del arr[i]\n",
    "\n",
    "print(arr[0])"
   ]
  },
  {
   "cell_type": "code",
   "execution_count": 57,
   "id": "55fd0bb5",
   "metadata": {},
   "outputs": [
    {
     "name": "stdout",
     "output_type": "stream",
     "text": [
      "10\n",
      "8\n"
     ]
    }
   ],
   "source": [
    "a = int(input())\n",
    "\n",
    "arr = []\n",
    "for i in range(a) :\n",
    "    arr.append(i+1)\n",
    "\n",
    "while(len(arr) > 1) :\n",
    "    arr = arr[1::2]\n",
    "\n",
    "print(arr[0])"
   ]
  },
  {
   "cell_type": "code",
   "execution_count": 56,
   "id": "9603953b",
   "metadata": {},
   "outputs": [
    {
     "data": {
      "text/plain": [
       "2"
      ]
     },
     "execution_count": 56,
     "metadata": {},
     "output_type": "execute_result"
    }
   ],
   "source": []
  },
  {
   "cell_type": "code",
   "execution_count": null,
   "id": "b0ed5cb0",
   "metadata": {},
   "outputs": [],
   "source": []
  }
 ],
 "metadata": {
  "kernelspec": {
   "display_name": "Python 3",
   "language": "python",
   "name": "python3"
  },
  "language_info": {
   "codemirror_mode": {
    "name": "ipython",
    "version": 3
   },
   "file_extension": ".py",
   "mimetype": "text/x-python",
   "name": "python",
   "nbconvert_exporter": "python",
   "pygments_lexer": "ipython3",
   "version": "3.8.8"
  }
 },
 "nbformat": 4,
 "nbformat_minor": 5
}
